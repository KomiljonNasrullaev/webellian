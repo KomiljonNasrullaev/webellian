{
 "cells": [
  {
   "cell_type": "code",
   "execution_count": 1,
   "metadata": {},
   "outputs": [
    {
     "name": "stdout",
     "output_type": "stream",
     "text": [
      "Sample dataset generated and saved to 'sample_transactions.csv'\n",
      "  transaction_id  user_id transaction_date  amount     category\n",
      "0         T00001        1     Feb 09, 2023  176.99    Utilities\n",
      "1         T00002        2       02-26-2023     NaN  Electronics\n",
      "2         T00003        1       09-20-2024   71.58  Electronics\n",
      "3         T00004        4       2023-03-09  306.02    Utilities\n",
      "4         T00005        4     Jul 04, 2024     NaN    Groceries\n"
     ]
    }
   ],
   "source": [
    "import pandas as pd\n",
    "import random\n",
    "from datetime import datetime, timedelta\n",
    "\n",
    "# Number of rows\n",
    "n_rows = 20\n",
    "\n",
    "# Categories for the category field\n",
    "categories = ['Groceries', 'Electronics', 'Clothing', 'Entertainment', 'Utilities']\n",
    "\n",
    "# Possible date formats\n",
    "date_formats = [\"%Y-%m-%d\", \"%d/%m/%Y\", \"%b %d, %Y\", \"%m-%d-%Y\", \"%d-%b-%Y\"]\n",
    "\n",
    "def random_date():\n",
    "    \"\"\"Generate a random date string in one of several formats.\"\"\"\n",
    "    start_date = datetime(2023, 1, 1)\n",
    "    end_date = datetime(2025, 8, 1)\n",
    "    delta_days = (end_date - start_date).days\n",
    "    random_days = random.randint(0, delta_days)\n",
    "    dt = start_date + timedelta(days=random_days)\n",
    "    return dt.strftime(random.choice(date_formats))\n",
    "\n",
    "# Generate rows\n",
    "data = []\n",
    "for i in range(n_rows):\n",
    "    transaction_id = f\"T{i+1:05d}\"\n",
    "    user_id = random.randint(1, 5)\n",
    "    transaction_date = random_date()\n",
    "    amount = random.choice([\n",
    "        round(random.uniform(-100, 500), 2),  # may be negative\n",
    "        None  # null values\n",
    "    ])\n",
    "    category = random.choice(categories)\n",
    "    data.append([transaction_id, user_id, transaction_date, amount, category])\n",
    "\n",
    "# Create DataFrame\n",
    "df = pd.DataFrame(data, columns=[\n",
    "    'transaction_id', 'user_id', 'transaction_date', 'amount', 'category'\n",
    "])\n",
    "\n",
    "# Save to CSV\n",
    "# df.to_csv(\"../transactions.csv\", index=False)\n",
    "\n",
    "print(\"Sample dataset generated and saved to 'sample_transactions.csv'\")\n",
    "print(df.head())"
   ]
  },
  {
   "cell_type": "code",
   "execution_count": 2,
   "metadata": {},
   "outputs": [],
   "source": [
    "import os\n",
    "os.getcwd()\n",
    "\n",
    "os.chdir(\"..\")"
   ]
  },
  {
   "cell_type": "code",
   "execution_count": 3,
   "metadata": {},
   "outputs": [
    {
     "name": "stdout",
     "output_type": "stream",
     "text": [
      "Mean: 197.637\n",
      "          user_id    amount\n",
      "user_id  1.000000 -0.083076\n",
      "amount  -0.083076  1.000000\n"
     ]
    },
    {
     "data": {
      "image/png": "[encoded data removed]",
      "text/plain": [
       "<Figure size 640x480 with 1 Axes>"
      ]
     },
     "metadata": {},
     "output_type": "display_data"
    }
   ],
   "source": [
    "from stats_helper.utils import load_csv \n",
    "from stats_helper.core import mean, correlation_matrix \n",
    "from stats_helper.visualization import histogram\n",
    "\n",
    "df = load_csv('transactions.csv')\n",
    "print('Mean:', mean(df, 'amount'))\n",
    "print(correlation_matrix(df))\n",
    "histogram(df, 'amount')"
   ]
  }
 ],
 "metadata": {
  "kernelspec": {
   "display_name": "Python (webellian)",
   "language": "python",
   "name": "webellian"
  },
  "language_info": {
   "codemirror_mode": {
    "name": "ipython",
    "version": 3
   },
   "file_extension": ".py",
   "mimetype": "text/x-python",
   "name": "python",
   "nbconvert_exporter": "python",
   "pygments_lexer": "ipython3",
   "version": "3.10.6"
  },
  "toc": {
   "base_numbering": 1,
   "nav_menu": {},
   "number_sections": true,
   "sideBar": true,
   "skip_h1_title": false,
   "title_cell": "Table of Contents",
   "title_sidebar": "Contents",
   "toc_cell": false,
   "toc_position": {},
   "toc_section_display": true,
   "toc_window_display": false
  }
 },
 "nbformat": 4,
 "nbformat_minor": 2
}
